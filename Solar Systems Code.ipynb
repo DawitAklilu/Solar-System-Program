{
 "cells": [
  {
   "cell_type": "markdown",
   "id": "1528f31a",
   "metadata": {},
   "source": [
    "<!-- HTML file automatically generated from DocOnce source (https://github.com/doconce/doconce/)\n",
    "doconce format html Secondmidterm2022.do.txt --no_mako -->\n",
    "<!-- dom:TITLE: PHY321: Classical Mechanics 1 -->"
   ]
  },
  {
   "cell_type": "markdown",
   "id": "4e32fdeb",
   "metadata": {},
   "source": [
    "# PHY321: Classical Mechanics 1\n",
    "**Second midterm project**"
   ]
  },
  {
   "cell_type": "code",
   "execution_count": 1,
   "id": "5fc5fd41",
   "metadata": {},
   "outputs": [],
   "source": [
    "import matplotlib.pyplot as plt\n",
    "import numpy as np\n",
    "import math"
   ]
  },
  {
   "cell_type": "code",
   "execution_count": 29,
   "id": "234ad565",
   "metadata": {},
   "outputs": [
    {
     "data": {
      "text/plain": [
       "[<matplotlib.lines.Line2D at 0x112c0abdaf0>]"
      ]
     },
     "execution_count": 29,
     "metadata": {},
     "output_type": "execute_result"
    },
    {
     "data": {
      "image/png": "[encoded data removed]",
      "text/plain": [
       "<Figure size 432x288 with 1 Axes>"
      ]
     },
     "metadata": {
      "needs_background": "light"
     },
     "output_type": "display_data"
    }
   ],
   "source": [
    "#Verlet\n",
    "#This represent code for Jupiter\n",
    "DeltaT = 0.001    #in years\n",
    "#set up arrays \n",
    "tfinal = 20.0\n",
    "n = math.ceil(tfinal/DeltaT) #ceil = ceiling which is the highest it can to\n",
    "# set up arrays for t, a, v, and x\n",
    "t = np.zeros(n)\n",
    "vE = np.zeros((n,2))\n",
    "rE = np.zeros((n,2))\n",
    "vJ = np.zeros((n,2))\n",
    "rJ = np.zeros((n,2))\n",
    "# first [] is for row, that is n rows, second [] is for x and y columns\n",
    "# Initial conditions as compact 2-dimensional arrays\n",
    "rE[0] = np.array([1,0]) #initial x value, 1 AU\n",
    "rJ[0] = np.array([5.2,0])\n",
    "vE[0] = np.array([0,6.28])\n",
    "vJ[0] = np.array([0,-2.76])\n",
    "ME=6*10**24\n",
    "MJ=1.9*10**27\n",
    "MS=1.98*10**30\n",
    "k=-4*math.pi**2\n",
    "# Start integrating using the Velocity-Verlet  method\n",
    "for i in range(n-1):\n",
    "    # Set up forces, define acceleration first\n",
    "    aE = k*rE[i]/np.sqrt((rE[i][0]**2+rE[i][1]**2))**3 + (MJ/MS)*k*(rE[i]-rJ[i])/(np.sqrt(((rE[i][0]-rJ[i][0])**2+(rE[i][1]-rJ[i][1])**2))**3)  # f(rE[i])\n",
    "    aJ = k*rJ[i]/np.sqrt((rJ[i][0]**2+rJ[i][1]**2))**3 + (ME/MS)*k*(rJ[i]-rE[i])/(np.sqrt(((rJ[i][0]-rE[i][0])**2+(rJ[i][1]-rE[i][1])**2))**3)\n",
    "    # update velocity, time and position using the Velocity-Verlet method\n",
    "    rE[i+1] = rE[i] + DeltaT*vE[i] + DeltaT**2*aE*0.5 # Fixed this\n",
    "    rJ[i+1] = rJ[i] + DeltaT*vJ[i] + DeltaT**2*aJ*0.5 #Fixed this \n",
    "    # new acceleration for the Verlet method\n",
    "    aEnew = k*rE[i+1]/np.sqrt((rE[i+1][0]**2+rE[i+1][1]**2))**3 + (MJ/MS)*k*(rE[i+1]-rJ[i+1])/(np.sqrt(((rE[i+1][0]-rJ[i+1][0])**2+(rE[i+1][1]-rJ[i+1][1])**2))**3)  # f(rE[i+1])\n",
    "    aJnew = k*rJ[i+1]/np.sqrt((rJ[i+1][0]**2+rJ[i+1][1]**2))**3 + (ME/MS)*k*(rJ[i+1]-rE[i+1])/(np.sqrt(((rJ[i+1][0]-rE[i+1][0])**2+(rJ[i+1][1]-rE[i+1][1])**2))**3)\n",
    "    # velocity update \n",
    "    vE[i+1] = vE[i] + 0.5*DeltaT*(aE+aEnew)\n",
    "    vJ[i+1] = vJ[i] + 0.5*DeltaT*(aJ+aJnew)\n",
    "    t[i+1] = t[i] + DeltaT\n",
    "# Plot position x,y   \n",
    "fig, ax = plt.subplots()\n",
    "ax.plot(rE[:,0],rE[:,1])\n",
    "ax.plot(rJ[:,0],rJ[:,1])\n",
    "\n",
    "\n",
    "\n"
   ]
  },
  {
   "cell_type": "markdown",
   "id": "32c96018",
   "metadata": {},
   "source": []
  }
 ],
 "metadata": {
  "kernelspec": {
   "display_name": "Python 3 (ipykernel)",
   "language": "python",
   "name": "python3"
  },
  "language_info": {
   "codemirror_mode": {
    "name": "ipython",
    "version": 3
   },
   "file_extension": ".py",
   "mimetype": "text/x-python",
   "name": "python",
   "nbconvert_exporter": "python",
   "pygments_lexer": "ipython3",
   "version": "3.9.7"
  }
 },
 "nbformat": 4,
 "nbformat_minor": 5
}

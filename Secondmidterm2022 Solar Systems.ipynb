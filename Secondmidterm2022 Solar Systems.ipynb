{
 "cells": [
  {
   "cell_type": "markdown",
   "id": "1528f31a",
   "metadata": {},
   "source": [
    "<!-- HTML file automatically generated from DocOnce source (https://github.com/doconce/doconce/)\n",
    "doconce format html Secondmidterm2022.do.txt --no_mako -->\n",
    "<!-- dom:TITLE: PHY321: Classical Mechanics 1 -->"
   ]
  },
  {
   "cell_type": "markdown",
   "id": "4e32fdeb",
   "metadata": {},
   "source": [
    "# PHY321: Classical Mechanics 1\n",
    "**Second midterm project, due Friday April 15**\n",
    "\n",
    "Date: **Apr 6, 2022**"
   ]
  },
  {
   "cell_type": "markdown",
   "id": "b570c7ab",
   "metadata": {},
   "source": [
    "### Introduction to the second midterm project, total score 100 points\n",
    "\n",
    "In this midterm we will attempt at writing a program that simulates\n",
    "the solar system. We start with the Earth-Sun system we studied in\n",
    "homework 5  and study elliptical orbits and their properties. We test\n",
    "also elliptical orbits and their dependence on powers $\\beta$ of\n",
    "$r^{\\beta}$. We will test other aspects of the Earth-Sun system and\n",
    "link these to the theoretical discussion on two-body problems with\n",
    "central forces. \n",
    "\n",
    "Thereafter we will add Jupiter to our system before we move on to including all planets of the solar system.\n",
    "attempt at making a code which simulates the solar system.\n",
    "\n",
    "The relevant reading background is\n",
    "1. chapter 8 of  Taylor.\n",
    "\n",
    "2. Lecture notes on central forces and two-body problems, see also the Jupyter-Book at <https://mhjensen.github.io/Physics321/doc/LectureNotes/_build/html/> and go to [Two-body problems, from the Gravitational Force to Two-body Scattering](https://mhjensen.github.io/Physics321/doc/LectureNotes/_build/html/chapter6.html).\n",
    "\n",
    "3. Homework assignments  5-8"
   ]
  },
  {
   "cell_type": "markdown",
   "id": "9a5399bc",
   "metadata": {},
   "source": [
    "### Part 1 (50pt), the inverse-square law and the stability of planetary orbits\n",
    "\n",
    "In our lectures (see also Taylor chapter 8)  we have studied an attractive potential"
   ]
  },
  {
   "cell_type": "markdown",
   "id": "d154d6d3",
   "metadata": {},
   "source": [
    "$$\n",
    "V(r)=-\\alpha/r,\n",
    "$$"
   ]
  },
  {
   "cell_type": "markdown",
   "id": "0153262e",
   "metadata": {},
   "source": [
    "where the quantity $r$ is the absolute value of the relative position\n",
    "and $\\alpha$ is a constant.\n",
    "\n",
    "When we rewrote the equations of motion in polar coordinates, we found the\n",
    "analytical solution to the radial equation of motion"
   ]
  },
  {
   "cell_type": "markdown",
   "id": "5c920059",
   "metadata": {},
   "source": [
    "$$\n",
    "r(\\phi) = \\frac{c}{1+\\epsilon\\cos{(\\phi)}},\n",
    "$$"
   ]
  },
  {
   "cell_type": "markdown",
   "id": "57557663",
   "metadata": {},
   "source": [
    "where $c=L^2/\\mu\\alpha$, with\n",
    "the reduced mass $\\mu$ and the angular momentum $L$, as\n",
    "discussed during the lectures. With the transformation of a two-body\n",
    "problem to the center-of-mass frame, the actual equations look like an\n",
    "*effective* one-body problem. \n",
    "\n",
    "The quantity $\\epsilon$ is what we called the eccentricity. Since we\n",
    "will mainly study bounded orbits, we have $0 \\le \\epsilon < 1$.  For\n",
    "the Earth, the orbit is indeed close to circular and at perihelion\n",
    "(the closest distance to the Sun), the Earth's center is about 0.98329\n",
    "astronomical units (AU) or 147,098,070 km from the Sun's center. For\n",
    "Earth, the orbital eccentricity is $\\epsilon\\approx 0.0167$. The outer\n",
    "planets have more elliptical orbits. For example, Mars has its\n",
    "perihelion at 206,655,215 km and its apehelion at 249,232,432 km.\n",
    "\n",
    "In this part we will limit ourselves to the Earth-Sun system we\n",
    "studied in homework 5. You can reuse your code with either the\n",
    "Velocity-Verlet or the Euler-Cromer algorithms from homework 5.\n",
    "\n",
    "This means also that $\\alpha=GM_{\\odot}M_{\\mathrm{Earth}}$. We will\n",
    "use $\\alpha$ as a shorthand in the equations here. Keep in mind that\n",
    "in homework 5 you scaled $GM_{\\odot}=4\\pi^2$ in your code.\n",
    "\n",
    "The exercises here are all based on you analyzing the results from your codes from homework 5. Homework 8 is also useful.\n",
    "\n",
    "As a reminder, we list the equations we studied in homework 5.\n",
    "Newton's law of gravitation is given by a force $F_G$ (we assume this\n",
    "is the force acting on Earth from the Sun)"
   ]
  },
  {
   "cell_type": "markdown",
   "id": "a6328e4a",
   "metadata": {},
   "source": [
    "$$\n",
    "F_G=-\\frac{GM_{\\odot}M_{\\mathrm{Earth}}}{r^2},\n",
    "$$"
   ]
  },
  {
   "cell_type": "markdown",
   "id": "7f6658f6",
   "metadata": {},
   "source": [
    "where $M_{\\odot}$ is the mass of the Sun and $M_{\\mathrm{Earth}}$ is\n",
    "the mass of the Earth. The gravitational constant is $G$ and $r$ is\n",
    "the distance between the Earth and the Sun.  We assumed that the Sun\n",
    "has a mass which is much larger than that of the Earth. We could\n",
    "therefore safely neglect the motion of the Sun.\n",
    "\n",
    "In homework 5 we assumed that the orbit of the Earth around the Sun \n",
    "was co-planar, and we took this to be the $xy$-plane.\n",
    "Using Newton's second law of motion we got the following equations"
   ]
  },
  {
   "cell_type": "markdown",
   "id": "0730075b",
   "metadata": {},
   "source": [
    "$$\n",
    "\\frac{d^2x}{dt^2}=-\\frac{F_{G,x}}{M_{\\mathrm{Earth}}},\n",
    "$$"
   ]
  },
  {
   "cell_type": "markdown",
   "id": "fbd400e3",
   "metadata": {},
   "source": [
    "and"
   ]
  },
  {
   "cell_type": "markdown",
   "id": "0c522a3e",
   "metadata": {},
   "source": [
    "$$\n",
    "\\frac{d^2y}{dt^2}=-\\frac{F_{G,y}}{M_{\\mathrm{Earth}}},\n",
    "$$"
   ]
  },
  {
   "cell_type": "markdown",
   "id": "8f5a5db1",
   "metadata": {},
   "source": [
    "where $F_{G,x}$ and $F_{G,y}$ are the $x$ and $y$ components of the\n",
    "gravitational force.\n",
    "\n",
    "You can obviously set $\\alpha=GM_{\\odot}M_{\\mathrm{Earth}}$.\n",
    "\n",
    "* 1a (10pt) Use now your code from homework 5 (in cartesian coordinates). Start with a circular orbit (this corresponds to  setting $\\epsilon=0$ for the equations in Polar coordinates), and plot $x$ versus $y$. How would you choose the initial conditions to obtain a circular orbit?  **Note** that your code should be set up  in Cartesian coordinates.\n",
    "\n",
    "* 1b (10pt) Check that for the case of a circular orbit that both the kinetic and the potential energies are conserved. Why do we expect such a result if we have a circular orbit? \n",
    "\n",
    "* 1c (10pt) With the same initial conditions (circular orbit) use Kepler's second law (see Taylor section 3.4) to show that angular momentum is conserved. Compare the value you get with the angular momentum you get from a circular orbit. \n",
    "\n",
    "* 1d (10pt) Till now we have assumed that we have an inverse-square force $F(r) = -\\alpha/r^2$. Let us rewrite this force as $F(r) =-\\alpha/r^{\\beta}$ with $\\beta=[2,2.01,2.10,2.5,3.0,3.5]$. **Note**: in your code you are setting the force in say for example the $x$-direction (the same applies to the $y$- and/or eventual $z$-directions to $F(r) = -(\\alpha/r^3)x$. It means that when you study the dependence on the parameter $\\beta$, you need to add $1$ to the power. Run your Sun-Earth code with these values of $\\beta$ and plot $x$ versus $y$ (you can use the same initial conditions or switch to eliptical orbits). Discuss your results. Can you use the observations of planetary motion to determine by what amount Nature deviates from a perfect inverse-square law?\n",
    "\n",
    "* 1e (10pt) Consider now an elliptical orbit with an initial position 1 AU from the Sun and an initial  velocity of 5 AU/yr. Show that the total energy is a constant (the kinetic and potential energies will vary). Show also that the angular momentum is a constant. If you change the parameter $\\beta$ in $F(r) = -\\alpha/r^{\\beta}$ from $\\beta=2$ to $\\beta=3$, are these quantities conserved?  Discuss your results. (Hint: relate your results to Kepler's laws)."
   ]
  },
  {
   "cell_type": "markdown",
   "id": "b231e1ff",
   "metadata": {},
   "source": [
    "### Part 2 (50pt), making a program for the solar system\n",
    "\n",
    "Our final aim is to write a code which includes the known planets of the solar system. \n",
    "\n",
    "We will, as before, use so-called astronomical units when rewriting our equations. \n",
    "Using astronomical units (AU as abbreviation)it means that \n",
    "one astronomical unit of length, known as 1 AU, is the average distance between the Sun and Earth, that is\n",
    "$1$ AU = $1.5\\times 10^{11}$ m.  It can also be convenient to use years instead of seconds since years match\n",
    "better the time evolution of the solar system. The mass of the Sun is $M_{\\mathrm{sun}}=M_{\\odot}=2\\times 10^{30}$ kg. The masses of all relevant planets and their distances from the sun are listed in here in kg and AU.\n",
    "\n",
    "1. Earth with mass  $M_{\\mathrm{Earth}}=6\\times 10^{24}$ kg and distance to sun  1AU\n",
    "\n",
    "2. Jupiter with mass  $M_{\\mathrm{Jupiter}}=1.9\\times 10^{27}$ kg and distance to the Sun 5.20 AU\n",
    "\n",
    "3. Mars  with mass $M_{\\mathrm{Mars}}=6.6\\times 10^{23}$ kg and distance to the Sun 1.52 AU \n",
    "\n",
    "4. Venus with mass $M_{\\mathrm{Venus}}=4.9\\times 10^{24}$ kg and distance to the Sun 0.72 AU \n",
    "\n",
    "5. Saturn with mass $M_{\\mathrm{Saturn}}=5.5\\times 10^{26}$ kg and distance to the Sun 9.54 AU \n",
    "\n",
    "6. Mercury with mass $M_{\\mathrm{Mercury}}=3.3\\times 10^{23}$ kg and distance to the Sun 0.39 AU\n",
    "\n",
    "7. Uranus  with mass $M_{\\mathrm{Uranus}}=8.8\\times 10^{25}$ kg and distance to the Sun 19.19 AU\n",
    "\n",
    "8. Neptun with mass $M_{\\mathrm{Neptun}}=1.03\\times 10^{26}$ kg and distance to the Sun 30.06 AU\n",
    "\n",
    "9. Pluto with  $M_{\\mathrm{Pluto}}=1.31\\times 10^{22}$ kg  and distance to the Sun 39.53 AU\n",
    "\n",
    "Pluto is no longer considered a planet, but we add it here for\n",
    "historical reasons. It is optional in this midterm project to include\n",
    "Pluto.\n",
    "\n",
    "In setting up the equations we can limit ourselves to a co-planar\n",
    "motion and use only the $x$ and $y$ coordinates. But you should feel\n",
    "free to extend your equations to three dimensions, it is not very\n",
    "difficult and the data from NASA are all in three dimensions.\n",
    "You find these data at the \n",
    "[NASA](http://www.nasa.gov/index.html) has an excellent site at <https://ssd.jpl.nasa.gov/horizons/app.html#/> site.\n",
    "From there you can extract initial conditions in order to start your\n",
    "differential equation solver.  At the above website you need to change\n",
    "from **OBSERVER** to **VECTOR** and then write in the planet you are\n",
    "interested in.  The generated data contain the $x$, $y$ and $z$ values\n",
    "as well as their corresponding velocities. The velocities are in units\n",
    "of AU per day.  Alternatively they can be obtained in terms of km and\n",
    "km/s.\n",
    "\n",
    "We will start with  the three-body problem, still with the Sun kept\n",
    "fixed as the center of mass of the system but including Jupiter (the\n",
    "most massive planet in the solar system, having a mass that is\n",
    "approximately 1000 times smaller than that of the Sun) together with\n",
    "the Earth. This leads to a three-body problem. Without Jupiter, the\n",
    "Earth's motion is stable and unchanging with time. The aim here is to\n",
    "find out first how much Jupiter alters the Earth's motion.\n",
    "\n",
    "The program you have developed in homework 5  can easily be modified by\n",
    "simply adding the magnitude of the force between the Earth and\n",
    "Jupiter.\n",
    "\n",
    "This force is given again by (without vector symbols, only as function of the value of the relative distance)"
   ]
  },
  {
   "cell_type": "markdown",
   "id": "92b61434",
   "metadata": {},
   "source": [
    "$$\n",
    "F_{\\mathrm{Earth-Jupiter}}=-\\frac{GM_{\\mathrm{Jupiter}}M_{\\mathrm{Earth}}}{r_{\\mathrm{Earth-Jupiter}}^2},\n",
    "$$"
   ]
  },
  {
   "cell_type": "markdown",
   "id": "4936964f",
   "metadata": {},
   "source": [
    "where $M_{\\mathrm{Jupiter}}$ is the mass of Jupyter and\n",
    "$M_{\\mathrm{Earth}}$ is the mass of the Earth.  The gravitational constant\n",
    "is $G$ and $r_{\\mathrm{Earth-Jupiter}}$ is the distance between Earth\n",
    "and Jupiter.\n",
    "\n",
    "We assume again that the orbits of the two planets are co-planar, and\n",
    "we take this to be the $xy$-plane (you can easily extend the equations\n",
    "to three dimensions, feel free to run your calculations in two or three dimensions).\n",
    "\n",
    "* 2a (20pt) Modify your coupled first-order differential equations from homework 5 in order to accomodate both the motion of the Earth and Jupiter by taking into account the distance in $x$ and $y$ between the Earth and Jupiter. Write out the differential equations for  Earth and Jupyter, keeping the Sun at rest (mass center of the system). Scale these equations in terms of Astronomical Units.\n",
    "\n",
    "* 2b (10pt) Use either the Euler-Cromer or Velocity-Verlet algorithms to compute the positions of the Earth and Jupiter. Repeat the calculations by increasing the mass of Jupiter by a factor of 10, 100 and 1000 and plot the position of the Earth.  Discuss your results and study the stability of this three-body system as function of the chosen masses for Jupiter.\n",
    "\n",
    "* 2c (20pt) Since the Sun is much more massive than all the other planets, we will define the Sun as our center of mass and set its velocity and position to zero.  Our final task is to add the remaining known planets and simulate the solar system asfunction of time. Add gradually one planet at the time. Develop a code which simulates the solar system with the above planets and plot their orbits. Discuss your results."
   ]
  },
  {
   "cell_type": "code",
   "execution_count": 1,
   "id": "5fc5fd41",
   "metadata": {},
   "outputs": [],
   "source": [
    "import matplotlib.pyplot as plt\n",
    "import numpy as np\n",
    "import math"
   ]
  },
  {
   "cell_type": "code",
   "execution_count": 29,
   "id": "234ad565",
   "metadata": {},
   "outputs": [
    {
     "data": {
      "text/plain": [
       "[<matplotlib.lines.Line2D at 0x112c0abdaf0>]"
      ]
     },
     "execution_count": 29,
     "metadata": {},
     "output_type": "execute_result"
    },
    {
     "data": {
      "image/png": "[encoded data removed]",
      "text/plain": [
       "<Figure size 432x288 with 1 Axes>"
      ]
     },
     "metadata": {
      "needs_background": "light"
     },
     "output_type": "display_data"
    }
   ],
   "source": [
    "#Verlet\n",
    "#This represent code for Jupiter\n",
    "DeltaT = 0.001    #in years\n",
    "#set up arrays \n",
    "tfinal = 20.0\n",
    "n = math.ceil(tfinal/DeltaT) #ceil = ceiling which is the highest it can to\n",
    "# set up arrays for t, a, v, and x\n",
    "t = np.zeros(n)\n",
    "vE = np.zeros((n,2))\n",
    "rE = np.zeros((n,2))\n",
    "vJ = np.zeros((n,2))\n",
    "rJ = np.zeros((n,2))\n",
    "# first [] is for row, that is n rows, second [] is for x and y columns\n",
    "# Initial conditions as compact 2-dimensional arrays\n",
    "rE[0] = np.array([1,0]) #initial x value, 1 AU\n",
    "rJ[0] = np.array([5.2,0])\n",
    "vE[0] = np.array([0,6.28])\n",
    "vJ[0] = np.array([0,-2.76])\n",
    "ME=6*10**24\n",
    "MJ=1.9*10**27\n",
    "MS=1.98*10**30\n",
    "k=-4*math.pi**2\n",
    "# Start integrating using the Velocity-Verlet  method\n",
    "for i in range(n-1):\n",
    "    # Set up forces, define acceleration first\n",
    "    aE = k*rE[i]/np.sqrt((rE[i][0]**2+rE[i][1]**2))**3 + (MJ/MS)*k*(rE[i]-rJ[i])/(np.sqrt(((rE[i][0]-rJ[i][0])**2+(rE[i][1]-rJ[i][1])**2))**3)  # f(rE[i])\n",
    "    aJ = k*rJ[i]/np.sqrt((rJ[i][0]**2+rJ[i][1]**2))**3 + (ME/MS)*k*(rJ[i]-rE[i])/(np.sqrt(((rJ[i][0]-rE[i][0])**2+(rJ[i][1]-rE[i][1])**2))**3)\n",
    "    # update velocity, time and position using the Velocity-Verlet method\n",
    "    rE[i+1] = rE[i] + DeltaT*vE[i] + DeltaT**2*aE*0.5 # Fixed this\n",
    "    rJ[i+1] = rJ[i] + DeltaT*vJ[i] + DeltaT**2*aJ*0.5 #Fixed this \n",
    "    # new acceleration for the Verlet method\n",
    "    aEnew = k*rE[i+1]/np.sqrt((rE[i+1][0]**2+rE[i+1][1]**2))**3 + (MJ/MS)*k*(rE[i+1]-rJ[i+1])/(np.sqrt(((rE[i+1][0]-rJ[i+1][0])**2+(rE[i+1][1]-rJ[i+1][1])**2))**3)  # f(rE[i+1])\n",
    "    aJnew = k*rJ[i+1]/np.sqrt((rJ[i+1][0]**2+rJ[i+1][1]**2))**3 + (ME/MS)*k*(rJ[i+1]-rE[i+1])/(np.sqrt(((rJ[i+1][0]-rE[i+1][0])**2+(rJ[i+1][1]-rE[i+1][1])**2))**3)\n",
    "    # velocity update \n",
    "    vE[i+1] = vE[i] + 0.5*DeltaT*(aE+aEnew)\n",
    "    vJ[i+1] = vJ[i] + 0.5*DeltaT*(aJ+aJnew)\n",
    "    t[i+1] = t[i] + DeltaT\n",
    "# Plot position x,y   \n",
    "fig, ax = plt.subplots()\n",
    "ax.plot(rE[:,0],rE[:,1])\n",
    "ax.plot(rJ[:,0],rJ[:,1])\n",
    "\n",
    "\n",
    "\n"
   ]
  },
  {
   "cell_type": "markdown",
   "id": "32c96018",
   "metadata": {},
   "source": []
  }
 ],
 "metadata": {
  "kernelspec": {
   "display_name": "Python 3 (ipykernel)",
   "language": "python",
   "name": "python3"
  },
  "language_info": {
   "codemirror_mode": {
    "name": "ipython",
    "version": 3
   },
   "file_extension": ".py",
   "mimetype": "text/x-python",
   "name": "python",
   "nbconvert_exporter": "python",
   "pygments_lexer": "ipython3",
   "version": "3.9.7"
  }
 },
 "nbformat": 4,
 "nbformat_minor": 5
}
